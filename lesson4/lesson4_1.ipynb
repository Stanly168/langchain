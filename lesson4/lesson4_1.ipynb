{
 "cells": [
  {
   "cell_type": "markdown",
   "id": "c885ee7a",
   "metadata": {},
   "source": [
    "### 使用ollama"
   ]
  },
  {
   "cell_type": "code",
   "execution_count": 4,
   "id": "32297a1c",
   "metadata": {},
   "outputs": [
    {
     "name": "stdout",
     "output_type": "stream",
     "text": [
      "<class 'langchain_core.messages.ai.AIMessage'>\n",
      "所有答案\n",
      "content='81 除以 9 的结果是 9。' additional_kwargs={} response_metadata={'model': 'llama3.2:latest', 'created_at': '2025-09-26T05:58:33.369422Z', 'done': True, 'done_reason': 'stop', 'total_duration': 1589842208, 'load_duration': 1294865125, 'prompt_eval_count': 33, 'prompt_eval_duration': 132199875, 'eval_count': 13, 'eval_duration': 162009459, 'model_name': 'llama3.2:latest'} id='run--3ff701d5-5c46-46ea-8d5c-f9451446c656-0' usage_metadata={'input_tokens': 33, 'output_tokens': 13, 'total_tokens': 46}\n",
      "回答內容是\n",
      "81 除以 9 的结果是 9。\n"
     ]
    }
   ],
   "source": [
    "from langchain_ollama import ChatOllama\n",
    "\n",
    "\n",
    "# Create a ChatOllama model\n",
    "# 透過網址的方式連結ollama (指定 base_url 指向 Ollama server)\n",
    "# 預設 Ollama server 在本機的 11434 埠，若在其他主機或埠請改成相對應的網址\n",
    "\n",
    "#model = ChatOllama(model=\"llama3.2:latest\", base_url=\"http://host.docker.internal:11434\")\n",
    "model = ChatOllama(model=\"llama3.2:latest\",base_url=\"http://localhost:11434\")\n",
    "\n",
    "\n",
    "# Invoke the model with a message\n",
    "result = model.invoke(\"81除以9的答案是?\")\n",
    "print(type(result))\n",
    "print(\"所有答案\")\n",
    "print(result)\n",
    "print(\"回答內容是\")\n",
    "print(result.content)"
   ]
  },
  {
   "cell_type": "markdown",
   "id": "e85eebd5",
   "metadata": {},
   "source": [
    "### google-gemini"
   ]
  },
  {
   "cell_type": "code",
   "execution_count": 9,
   "id": "c41ed340",
   "metadata": {},
   "outputs": [
    {
     "name": "stdout",
     "output_type": "stream",
     "text": [
      "<class 'langchain_google_genai.chat_models.ChatGoogleGenerativeAI'>\n"
     ]
    },
    {
     "name": "stderr",
     "output_type": "stream",
     "text": [
      "E0000 00:00:1758870251.093708  235157 alts_credentials.cc:93] ALTS creds ignored. Not running on GCP and untrusted ALTS is not enabled.\n"
     ]
    },
    {
     "name": "stdout",
     "output_type": "stream",
     "text": [
      "<class 'langchain_core.messages.ai.AIMessage'>\n",
      "所有答案\n",
      "回答內容是\n",
      "好的，這是一首關於秋天的中文詩：\n",
      "\n",
      "**秋 韻**\n",
      "\n",
      "涼風乍起葉漸黃，\n",
      "金光斜灑染西窗。\n",
      "遠山層林楓葉舞，\n",
      "人間秋色入畫章。\n",
      "\n",
      "蕭蕭落葉舞翩躚，\n",
      "楓紅菊傲爭秋妍。\n",
      "一地金黃鋪錦繡，\n",
      "歲月無聲過指尖。\n",
      "\n",
      "田野稻浪逐金波，\n",
      "瓜果飄香滿庭柯。\n",
      "夜來月圓桂花落，\n",
      "清輝灑滿一江河。\n",
      "\n",
      "莫道秋光總寂寥，\n",
      "自有豐華入眼瞧。\n",
      "且將心事付明月，\n",
      "歲月靜好盡逍遙。\n"
     ]
    }
   ],
   "source": [
    "from dotenv import load_dotenv\n",
    "from langchain_google_genai import ChatGoogleGenerativeAI\n",
    "\n",
    "# Load environment variables from .env\n",
    "load_dotenv()\n",
    "\n",
    "# Create a ChatGoogleGenerativeAI model\n",
    "model = ChatGoogleGenerativeAI(model=\"gemini-2.5-flash\",temperature=1)\n",
    "print(type(model))\n",
    "\n",
    "#Invoke the model with a message\n",
    "result = model.invoke(\"請用中文寫一首關於秋天的詩\")\n",
    "print(type(result))\n",
    "print(\"所有答案\")\n",
    "#json_data = result.to_json()\n",
    "#print(json_data[\"kwargs\"][\"content\"])\n",
    "print(\"回答內容是\")\n",
    "print(result.content)"
   ]
  }
 ],
 "metadata": {
  "kernelspec": {
   "display_name": ".venv",
   "language": "python",
   "name": "python3"
  },
  "language_info": {
   "codemirror_mode": {
    "name": "ipython",
    "version": 3
   },
   "file_extension": ".py",
   "mimetype": "text/x-python",
   "name": "python",
   "nbconvert_exporter": "python",
   "pygments_lexer": "ipython3",
   "version": "3.10.18"
  }
 },
 "nbformat": 4,
 "nbformat_minor": 5
}
