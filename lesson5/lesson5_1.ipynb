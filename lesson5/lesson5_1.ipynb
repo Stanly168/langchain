{
 "cells": [
  {
   "cell_type": "code",
   "execution_count": null,
   "id": "dd487622",
   "metadata": {},
   "outputs": [
    {
     "ename": "",
     "evalue": "",
     "output_type": "error",
     "traceback": [
      "\u001b[1;31mRunning cells with '.venv (Python 3.10.18)' requires the ipykernel package.\n",
      "\u001b[1;31mInstall 'ipykernel' into the Python environment. \n",
      "\u001b[1;31mCommand: '/Users/stanlymacbook/Documents/Github/langchain/.venv/bin/python -m pip install ipykernel -U --force-reinstall'"
     ]
    }
   ],
   "source": [
    "import gradio as gr\n",
    "\n",
    "def greet(name, intensity):\n",
    "    return \"Hello, \" + name + \"!\" * int(intensity)\n",
    "    \n",
    "demo = gr.Interface(\n",
    "    fn=greet,\n",
    "    inputs=[gr.Textbox(), gr.Slider()],  # 修正這裡\n",
    "    outputs=[gr.Textbox()],  # 建議輸出也明確指定\n",
    ")\n",
    "\n",
    "demo.launch()"
   ]
  }
 ],
 "metadata": {
  "kernelspec": {
   "display_name": ".venv",
   "language": "python",
   "name": "python3"
  },
  "language_info": {
   "name": "python",
   "version": "3.10.18"
  }
 },
 "nbformat": 4,
 "nbformat_minor": 5
}
