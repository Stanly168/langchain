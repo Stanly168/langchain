{
 "cells": [
  {
   "cell_type": "code",
   "execution_count": 3,
   "id": "e43316e9",
   "metadata": {},
   "outputs": [
    {
     "name": "stdout",
     "output_type": "stream",
     "text": [
      "💬 AI 回應：\n",
      "{'error': \"model 'gemma3:1b' not found\"}\n",
      "No expected key found in response. Available keys: dict_keys(['error'])\n"
     ]
    }
   ],
   "source": [
    "import requests\n",
    "\n",
    "def chat_with_ollama(prompt: str):\n",
    "    url = \"http://localhost:11434/api/generate\"\n",
    "    payload = {\n",
    "        \"model\": \"gemma3:1b\",\n",
    "        \"prompt\": prompt,\n",
    "        \"stream\": False,\n",
    "        \"options\": { #參考說明1\n",
    "            \"temperature\": 0.7,\n",
    "            \"top_p\": 0.9,\n",
    "            \"top_k\": 50,\n",
    "        },\n",
    "        \"max_tokens\": 100,\n",
    "        \"format\": \"json\",\n",
    "    }\n",
    "\n",
    "    response = requests.post(url, json=payload)\n",
    "    result = response.json()\n",
    "    print(\"💬 AI 回應：\")\n",
    "    # Print the whole result for debugging\n",
    "    print(result)\n",
    "    # Try to print the 'response' key if it exists, otherwise print possible keys\n",
    "    if \"response\" in result:\n",
    "        print(result[\"response\"])\n",
    "    elif \"message\" in result:\n",
    "        print(result[\"message\"])\n",
    "    elif \"content\" in result:\n",
    "        print(result[\"content\"])\n",
    "    else:\n",
    "        print(\"No expected key found in response. Available keys:\", result.keys())\n",
    "\n",
    "#範例輸入\n",
    "chat_with_ollama(\"請用簡單的方式解釋什麼是Python的函式？\")"
   ]
  },
  {
   "cell_type": "code",
   "execution_count": 5,
   "id": "522d51f7",
   "metadata": {},
   "outputs": [
    {
     "name": "stdout",
     "output_type": "stream",
     "text": [
      "\n",
      "🤖 測試模型: gemma3:1b\n",
      "==================================================\n",
      "❌ gemma3:1b 回應異常\n",
      "🔍 完整回應: {'error': \"model 'gemma3:1b' not found\"}\n",
      "\n",
      "🤖 測試模型: gpt-oss:20b\n",
      "==================================================\n",
      "✅ gpt-oss:20b 回應正常\n",
      "📝 回答: **Python 的函式（function）** 就像是一個「小工具箱」，你可以把一段重複使用的程式碼寫進去，之後只要「呼叫」它，就能一次性執行那段程式碼。\n",
      "\n",
      "### 主要特點\n",
      "\n",
      "| 什麼 | 什麼意思 |\n",
      "|------|----------|\n",
      "| **定義** | 用 `def` 關鍵字寫下來，例如 `def my_function():` |\n",
      "| **參數** | 你可以把資料「傳進去」函式...\n"
     ]
    }
   ],
   "source": [
    "# 比較兩個模型的回應\n",
    "import requests\n",
    "\n",
    "def test_model(model_name, prompt):\n",
    "    print(f\"\\n🤖 測試模型: {model_name}\")\n",
    "    print(\"=\" * 50)\n",
    "    \n",
    "    url = \"http://localhost:11434/api/generate\"\n",
    "    payload = {\n",
    "        \"model\": model_name,\n",
    "        \"prompt\": prompt,\n",
    "        \"stream\": False,\n",
    "        \"options\": {\n",
    "            \"temperature\": 0.7,\n",
    "            \"top_p\": 0.9,\n",
    "            \"top_k\": 50,\n",
    "        }\n",
    "    }\n",
    "    \n",
    "    try:\n",
    "        response = requests.post(url, json=payload)\n",
    "        result = response.json()\n",
    "        \n",
    "        if \"response\" in result and result[\"response\"].strip():\n",
    "            print(f\"✅ {model_name} 回應正常\")\n",
    "            print(f\"📝 回答: {result['response'][:200]}...\")\n",
    "        else:\n",
    "            print(f\"❌ {model_name} 回應異常\")\n",
    "            print(f\"🔍 完整回應: {result}\")\n",
    "            \n",
    "    except Exception as e:\n",
    "        print(f\"❌ {model_name} 發生錯誤: {e}\")\n",
    "\n",
    "# 測試兩個模型\n",
    "prompt = \"請用簡單的方式解釋什麼是Python的函式？\"\n",
    "test_model(\"gemma3:1b\", prompt)\n",
    "test_model(\"gpt-oss:20b\", prompt)"
   ]
  },
  {
   "cell_type": "markdown",
   "id": "2eabdea2",
   "metadata": {},
   "source": []
  }
 ],
 "metadata": {
  "kernelspec": {
   "display_name": "langchain",
   "language": "python",
   "name": "python3"
  },
  "language_info": {
   "codemirror_mode": {
    "name": "ipython",
    "version": 3
   },
   "file_extension": ".py",
   "mimetype": "text/x-python",
   "name": "python",
   "nbconvert_exporter": "python",
   "pygments_lexer": "ipython3",
   "version": "3.11.13"
  }
 },
 "nbformat": 4,
 "nbformat_minor": 5
}
