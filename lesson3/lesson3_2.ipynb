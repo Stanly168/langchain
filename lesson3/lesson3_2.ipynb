{
 "cells": [
  {
   "cell_type": "markdown",
   "id": "dbf91a9c",
   "metadata": {},
   "source": [
    "curl http://localhost:11434/api/generate -d '{ \"model\": \"llama3.2\", \"prompt\":\"Why is the sky blue?\" }'"
   ]
  },
  {
   "cell_type": "code",
   "execution_count": null,
   "id": "84e45a68",
   "metadata": {},
   "outputs": [],
   "source": [
    "import requests\n",
    "\n",
    "# 將您的 curl 命令轉換成 requests\n",
    "url = \"http://localhost:11434/api/generate\"\n",
    "\n",
    "# 準備請求的資料 (JSON 格式)\n",
    "data = {\n",
    "    \"model\": \"llama3.2\",\n",
    "    \"prompt\": \"Why is the sky blue?\"\n",
    "}\n",
    "\n",
    "# 發送 POST 請求 (因為 curl 使用了 -d 參數)\n",
    "response = requests.post(url, json=data)\n",
    "\n",
    "# 檢查回應狀態\n",
    "print(f\"狀態碼: {response.status_code}\")\n",
    "\n",
    "# 取得回應內容\n",
    "if response.status_code == 200:\n",
    "    result = response.json()\n",
    "    print(\"回應內容:\")\n",
    "    print(result)\n",
    "else:\n",
    "    print(f\"請求失敗: {response.text}\")"
   ]
  },
  {
   "cell_type": "code",
   "execution_count": null,
   "id": "c6eb4fb3",
   "metadata": {},
   "outputs": [],
   "source": [
    "# 另一種寫法：使用 data 參數而不是 json 參數\n",
    "import requests\n",
    "import json\n",
    "\n",
    "url = \"http://localhost:11434/api/generate\"\n",
    "\n",
    "# 方法1：使用 json 參數 (推薦)\n",
    "data = {\n",
    "    \"model\": \"llama3.2\",\n",
    "    \"prompt\": \"Why is the sky blue?\"\n",
    "}\n",
    "\n",
    "try:\n",
    "    response = requests.post(url, json=data)\n",
    "    response.raise_for_status()  # 如果狀態碼不是 2xx，會拋出異常\n",
    "    result = response.json()\n",
    "    print(\"成功取得回應:\")\n",
    "    print(result)\n",
    "except requests.exceptions.RequestException as e:\n",
    "    print(f\"請求發生錯誤: {e}\")\n",
    "except json.JSONDecodeError as e:\n",
    "    print(f\"JSON 解析錯誤: {e}\")\n",
    "    print(f\"原始回應: {response.text}\")"
   ]
  },
  {
   "cell_type": "code",
   "execution_count": null,
   "id": "29797510",
   "metadata": {},
   "outputs": [],
   "source": [
    "# 方法2：使用 data 參數 (需要手動轉換 JSON 字串)\n",
    "import requests\n",
    "import json\n",
    "\n",
    "url = \"http://localhost:11434/api/generate\"\n",
    "\n",
    "data = {\n",
    "    \"model\": \"llama3.2\",\n",
    "    \"prompt\": \"Why is the sky blue?\"\n",
    "}\n",
    "\n",
    "# 手動將字典轉換為 JSON 字串\n",
    "json_data = json.dumps(data)\n",
    "\n",
    "# 設定 Content-Type header\n",
    "headers = {\n",
    "    \"Content-Type\": \"application/json\"\n",
    "}\n",
    "\n",
    "response = requests.post(url, data=json_data, headers=headers)\n",
    "\n",
    "print(f\"狀態碼: {response.status_code}\")\n",
    "if response.status_code == 200:\n",
    "    result = response.json()\n",
    "    print(\"回應內容:\")\n",
    "    print(result)\n",
    "else:\n",
    "    print(f\"請求失敗: {response.text}\")"
   ]
  }
 ],
 "metadata": {
  "kernelspec": {
   "display_name": "langchain",
   "language": "python",
   "name": "python3"
  },
  "language_info": {
   "name": "python",
   "version": "3.11.13"
  }
 },
 "nbformat": 4,
 "nbformat_minor": 5
}
