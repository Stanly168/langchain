{
 "cells": [
  {
   "cell_type": "code",
   "execution_count": 1,
   "id": "1ae080f6",
   "metadata": {},
   "outputs": [
    {
     "name": "stdout",
     "output_type": "stream",
     "text": [
      "現在的日期和時間： 2025-09-18 14:18:23.762988\n",
      "隨機產生的數字： 4\n",
      "目前的工作目錄： /Users/stanlymacbook/Documents/Github/langchain/lesson3\n"
     ]
    }
   ],
   "source": [
    "# 使用python內建的標準函式庫,建立範例\n",
    "# 這裡我們將示範如何使用 Python 內建的標準函式庫（例如 datetime、random、os）\n",
    "import datetime\n",
    "import random\n",
    "import os\n",
    "\n",
    "# 範例1：使用 datetime 取得現在的日期和時間\n",
    "now = datetime.datetime.now()\n",
    "print(\"現在的日期和時間：\", now)\n",
    "\n",
    "# 範例2：使用 random 產生 1 到 10 之間的隨機整數\n",
    "rand_num = random.randint(1, 10)\n",
    "print(\"隨機產生的數字：\", rand_num)\n",
    "\n",
    "# 範例3：使用 os 取得目前的工作目錄\n",
    "current_dir = os.getcwd()\n",
    "print(\"目前的工作目錄：\", current_dir)"
   ]
  },
  {
   "cell_type": "code",
   "execution_count": null,
   "id": "aff58c4f",
   "metadata": {},
   "outputs": [],
   "source": []
  }
 ],
 "metadata": {
  "kernelspec": {
   "display_name": "langchain",
   "language": "python",
   "name": "python3"
  },
  "language_info": {
   "codemirror_mode": {
    "name": "ipython",
    "version": 3
   },
   "file_extension": ".py",
   "mimetype": "text/x-python",
   "name": "python",
   "nbconvert_exporter": "python",
   "pygments_lexer": "ipython3",
   "version": "3.11.13"
  }
 },
 "nbformat": 4,
 "nbformat_minor": 5
}
